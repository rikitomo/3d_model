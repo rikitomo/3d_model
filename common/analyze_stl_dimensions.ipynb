{
 "cells": [
  {
   "cell_type": "markdown",
   "metadata": {},
   "source": [
    "# STLファイルの寸法分析"
   ]
  },
  {
   "cell_type": "code",
   "execution_count": 38,
   "metadata": {},
   "outputs": [],
   "source": [
    "import os\n",
    "import pandas as pd\n",
    "from stl_dimension_analyzer import STLDimensionAnalyzer"
   ]
  },
  {
   "cell_type": "code",
   "execution_count": 39,
   "metadata": {},
   "outputs": [],
   "source": [
    "def analyze_stl_files_in_directory(directory_path: str, contains_word: str = None) -> pd.DataFrame:\n",
    "    \"\"\"指定したディレクトリ内のSTLファイルの寸法を分析\"\"\"\n",
    "    \n",
    "    # 分析結果を格納するリスト\n",
    "    results = []\n",
    "    \n",
    "    # STL分析器を初期化\n",
    "    analyzer = STLDimensionAnalyzer()\n",
    "    \n",
    "    # ディレクトリ内のSTLファイルを検索\n",
    "    for filename in os.listdir(directory_path):\n",
    "        if filename.lower().endswith('.stl'):\n",
    "            \n",
    "            # 指定した単語を含むファイルのみを対象とする\n",
    "            if contains_word is not None and contains_word not in filename:\n",
    "                continue\n",
    "            \n",
    "            file_path = os.path.join(directory_path, filename)\n",
    "            \n",
    "            # STLファイルを読み込んで寸法を計算\n",
    "            nodes, _ = analyzer.read_stl_file(file_path)\n",
    "            x_length, y_length, z_length = analyzer.calculate_dimensions(nodes)\n",
    "            \n",
    "            # 結果を辞書として保存\n",
    "            results.append({\n",
    "                'filename': filename,\n",
    "                'x_length': x_length,\n",
    "                'y_length': y_length,\n",
    "                'z_length': z_length\n",
    "            })  \n",
    "    \n",
    "    return pd.DataFrame(results)"
   ]
  },
  {
   "cell_type": "code",
   "execution_count": 43,
   "metadata": {},
   "outputs": [
    {
     "data": {
      "text/html": [
       "<div>\n",
       "<style scoped>\n",
       "    .dataframe tbody tr th:only-of-type {\n",
       "        vertical-align: middle;\n",
       "    }\n",
       "\n",
       "    .dataframe tbody tr th {\n",
       "        vertical-align: top;\n",
       "    }\n",
       "\n",
       "    .dataframe thead th {\n",
       "        text-align: right;\n",
       "    }\n",
       "</style>\n",
       "<table border=\"1\" class=\"dataframe\">\n",
       "  <thead>\n",
       "    <tr style=\"text-align: right;\">\n",
       "      <th></th>\n",
       "      <th>filename</th>\n",
       "      <th>x_length_in</th>\n",
       "      <th>y_length_in</th>\n",
       "      <th>z_length_in</th>\n",
       "      <th>x_length_label</th>\n",
       "      <th>y_length_label</th>\n",
       "      <th>z_length_label</th>\n",
       "      <th>x_length_pred</th>\n",
       "      <th>y_length_pred</th>\n",
       "      <th>z_length_pred</th>\n",
       "    </tr>\n",
       "  </thead>\n",
       "  <tbody>\n",
       "    <tr>\n",
       "      <th>0</th>\n",
       "      <td>test</td>\n",
       "      <td>3.858749</td>\n",
       "      <td>3.920816</td>\n",
       "      <td>3.858875</td>\n",
       "      <td>3.858749</td>\n",
       "      <td>3.920816</td>\n",
       "      <td>3.858875</td>\n",
       "      <td>16.627422</td>\n",
       "      <td>18.503284</td>\n",
       "      <td>15.939212</td>\n",
       "    </tr>\n",
       "    <tr>\n",
       "      <th>1</th>\n",
       "      <td>test2</td>\n",
       "      <td>3.858749</td>\n",
       "      <td>3.920816</td>\n",
       "      <td>3.858875</td>\n",
       "      <td>3.858749</td>\n",
       "      <td>3.920816</td>\n",
       "      <td>3.858875</td>\n",
       "      <td>15.694294</td>\n",
       "      <td>15.695042</td>\n",
       "      <td>16.298779</td>\n",
       "    </tr>\n",
       "  </tbody>\n",
       "</table>\n",
       "</div>"
      ],
      "text/plain": [
       "  filename  x_length_in  y_length_in  z_length_in  x_length_label  \\\n",
       "0     test     3.858749     3.920816     3.858875        3.858749   \n",
       "1    test2     3.858749     3.920816     3.858875        3.858749   \n",
       "\n",
       "   y_length_label  z_length_label  x_length_pred  y_length_pred  z_length_pred  \n",
       "0        3.920816        3.858875      16.627422      18.503284      15.939212  \n",
       "1        3.920816        3.858875      15.694294      15.695042      16.298779  "
      ]
     },
     "execution_count": 43,
     "metadata": {},
     "output_type": "execute_result"
    }
   ],
   "source": [
    "# 分析するSTLファイルが存在するディレクトリのパスを指定\n",
    "test_directory = \"data/stl_test\"\n",
    "predict_directory = \"data/predictions\"\n",
    "\n",
    "# 分析実行\n",
    "df_last = analyze_stl_files_in_directory(test_directory, contains_word=\"last\")\n",
    "df_last[\"filename\"] = df_last[\"filename\"].str.replace(\"_last.STL\", \"\")\n",
    "df_first = analyze_stl_files_in_directory(test_directory, contains_word=\"first\")\n",
    "df_first[\"filename\"] = df_first[\"filename\"].str.replace(\"_first.STL\", \"\")\n",
    "df_predict = analyze_stl_files_in_directory(predict_directory)\n",
    "df_predict[\"filename\"] = df_predict[\"filename\"].str.replace(\"_first.stl\", \"\").str.replace(\"predicted_\", \"\")\n",
    "\n",
    "# 結合\n",
    "df = pd.merge(df_last, df_first, on=\"filename\", suffixes=(\"_in\", \"\"))\n",
    "df = pd.merge(df, df_predict, on=\"filename\", suffixes=(\"_label\", \"_pred\"))\n",
    "df"
   ]
  },
  {
   "cell_type": "markdown",
   "metadata": {},
   "source": [
    "# 2つのSTLファイルの形状を比較"
   ]
  },
  {
   "cell_type": "code",
   "execution_count": 45,
   "metadata": {},
   "outputs": [
    {
     "data": {
      "application/vnd.jupyter.widget-view+json": {
       "model_id": "769b59a22dd74cf687d4ecba9a5dcf96",
       "version_major": 2,
       "version_minor": 0
      },
      "text/plain": [
       "Widget(value='<iframe src=\"http://localhost:57067/index.html?ui=P_0x165832890_83&reconnect=auto\" class=\"pyvist…"
      ]
     },
     "metadata": {},
     "output_type": "display_data"
    }
   ],
   "source": [
    "analyzer = STLDimensionAnalyzer()\n",
    "\n",
    "# ファイルパスを設定（実際のパスに変更してください）\n",
    "file_path = \"data/stl_test/test_first.STL\"\n",
    "file_path2 = \"data/predictions/predicted_test_first.stl\"\n",
    "\n",
    "# 2つのメッシュを重ねて表示\n",
    "analyzer.compare_overlaid_meshes(file_path, file_path2)"
   ]
  },
  {
   "cell_type": "code",
   "execution_count": null,
   "metadata": {},
   "outputs": [],
   "source": []
  }
 ],
 "metadata": {
  "kernelspec": {
   "display_name": "venv",
   "language": "python",
   "name": "python3"
  },
  "language_info": {
   "codemirror_mode": {
    "name": "ipython",
    "version": 3
   },
   "file_extension": ".py",
   "mimetype": "text/x-python",
   "name": "python",
   "nbconvert_exporter": "python",
   "pygments_lexer": "ipython3",
   "version": "3.11.0"
  }
 },
 "nbformat": 4,
 "nbformat_minor": 4
}
